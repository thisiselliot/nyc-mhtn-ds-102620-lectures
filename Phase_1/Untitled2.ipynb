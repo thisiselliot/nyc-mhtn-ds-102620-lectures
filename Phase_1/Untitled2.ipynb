{
 "cells": [
  {
   "cell_type": "code",
   "execution_count": 1,
   "metadata": {},
   "outputs": [],
   "source": [
    "import requests"
   ]
  },
  {
   "cell_type": "code",
   "execution_count": 2,
   "metadata": {},
   "outputs": [],
   "source": [
    "url = 'https://api.yelp.com/v3/businesses/search'\n",
    "response = requests.get(url)"
   ]
  },
  {
   "cell_type": "code",
   "execution_count": 3,
   "metadata": {},
   "outputs": [
    {
     "data": {
      "text/plain": [
       "400"
      ]
     },
     "execution_count": 3,
     "metadata": {},
     "output_type": "execute_result"
    }
   ],
   "source": [
    "response.status_code"
   ]
  },
  {
   "cell_type": "code",
   "execution_count": 4,
   "metadata": {},
   "outputs": [],
   "source": [
    "MY_API_KEY = \"dlqYmwvvNw-nPIMIuw5b_DqzUiQ2F5OmQBIw1HQH8uftncvCQOFo6pxIEznnVTjPgqSdBL-Ds63Fn_H3JJKezSB7Qbw7JqsxO16bW-yRh1NzPZDTJYGitk4595mhX3Yx\""
   ]
  },
  {
   "cell_type": "code",
   "execution_count": 5,
   "metadata": {},
   "outputs": [],
   "source": [
    "term = 'Axe Throwing'\n",
    "location = 'Brooklyn'\n",
    "SEARCH_LIMIT = 30\n",
    "\n",
    "url = 'https://api.yelp.com/v3/businesses/search'\n",
    "\n",
    "headers = {\n",
    "        'Authorization': 'Bearer {}'.format(MY_API_KEY),\n",
    "    }\n",
    "\n",
    "url_params = {\n",
    "                'term': term.replace(' ', '+'),\n",
    "                'location': location.replace(' ', '+'),\n",
    "                'limit': SEARCH_LIMIT\n",
    "            }\n",
    "response = requests.get(url, headers=headers, params=url_params)"
   ]
  },
  {
   "cell_type": "code",
   "execution_count": 6,
   "metadata": {},
   "outputs": [
    {
     "data": {
      "text/plain": [
       "200"
      ]
     },
     "execution_count": 6,
     "metadata": {},
     "output_type": "execute_result"
    }
   ],
   "source": [
    "response.status_code"
   ]
  },
  {
   "cell_type": "code",
   "execution_count": 7,
   "metadata": {},
   "outputs": [
    {
     "name": "stdout",
     "output_type": "stream",
     "text": [
      "<Response [200]>\n"
     ]
    }
   ],
   "source": [
    "print(response)"
   ]
  },
  {
   "cell_type": "code",
   "execution_count": 8,
   "metadata": {},
   "outputs": [
    {
     "data": {
      "text/plain": [
       "'{\"businesses\": [{\"id\": \"X0DNGKUQPjf0AfaXfXU2Qg\", \"alias\": \"kick-axe-throwing-brooklyn-2\", \"name\": \"Kick Axe Throwing\", \"image_url\": \"https://s3-media1.fl.yelpcdn.com/bphoto/WjKylwrUBKnGIE_ldj142Q/o.jpg\", \"is_closed\": false, \"url\": \"https://www.yelp.com/biz/kick-axe-throwing-brooklyn-2?adjust_creative=I5MSPS50pTBiLcSQDr6HLw&utm_campaign=yelp_api_v3&utm_medium=api_v3_business_search&utm_source=I5MSPS50pTBiLcSQDr6HLw\", \"review_count\": 404, \"categories\": [{\"alias\": \"bars\", \"title\": \"Bars\"}, {\"alias\": \"axethrowing\", \"title\": \"Axe Throwing\"}, {\"alias\": \"tradamerican\", \"title\": \"American (Traditional)\"}], \"rating\": 4.5, \"coordinates\": {\"latitude\": 40.6790268, \"longitude\": -73.983077}, \"transactions\": [], \"location\": {\"address1\": \"622 Degraw St\", \"address2\": null, \"address3\": \"\", \"city\": \"Brooklyn\", \"zip_code\": \"11217\", \"country\": \"US\", \"state\": \"NY\", \"display_address\": [\"622 Degraw St\", \"Brooklyn, NY 11217\"]}, \"phone\": \"+18335425293\", \"display_phone\": \"(833) 542-5293\", \"distance\": 4733.616620254917}, {\"id\": \"4E6BkrEVf_0TjRVYE7gxeQ\", \"alias\": \"bury-the-hatchet-brooklyn-axe-throwing-brooklyn-2\", \"name\": \"Bury the Hatchet Brooklyn - Axe Throwing\", \"image_url\": \"https://s3-media3.fl.yelpcdn.com/bphoto/SH8_Nwmd13LkntwuzcEPeg/o.jpg\", \"is_closed\": false, \"url\": \"https://www.yelp.com/biz/bury-the-hatchet-brooklyn-axe-throwing-brooklyn-2?adjust_creative=I5MSPS50pTBiLcSQDr6HLw&utm_campaign=yelp_api_v3&utm_medium=api_v3_business_search&utm_source=I5MSPS50pTBiLcSQDr6HLw\", \"review_count\": 155, \"categories\": [{\"alias\": \"axethrowing\", \"title\": \"Axe Throwing\"}, {\"alias\": \"teambuilding\", \"title\": \"Team Building Activities\"}], \"rating\": 4.5, \"coordinates\": {\"latitude\": 40.7283195, \"longitude\": -73.9600679}, \"transactions\": [], \"location\": {\"address1\": \"25 Noble St\", \"address2\": null, \"address3\": \"\", \"city\": \"Brooklyn\", \"zip_code\": \"11222\", \"country\": \"US\", \"state\": \"NY\", \"display_address\": [\"25 Noble St\", \"Brooklyn, NY 11222\"]}, \"phone\": \"+19172439696\", \"display_phone\": \"(917) 243-9696\", \"distance\": 8652.979400045351}, {\"id\": \"PhEkSzYZHKYS7uyXePmkMw\", \"alias\": \"axes-and-arrows-long-island-city-2\", \"name\": \"Axes And Arrows\", \"image_url\": \"https://s3-media4.fl.yelpcdn.com/bphoto/Uinh_osn8ykDeLoigmgo0Q/o.jpg\", \"is_closed\": false, \"url\": \"https://www.yelp.com/biz/axes-and-arrows-long-island-city-2?adjust_creative=I5MSPS50pTBiLcSQDr6HLw&utm_campaign=yelp_api_v3&utm_medium=api_v3_business_search&utm_source=I5MSPS50pTBiLcSQDr6HLw\", \"review_count\": 49, \"categories\": [{\"alias\": \"axethrowing\", \"title\": \"Axe Throwing\"}, {\"alias\": \"archery\", \"title\": \"Archery\"}], \"rating\": 4.5, \"coordinates\": {\"latitude\": 40.7425127, \"longitude\": -73.933816}, \"transactions\": [], \"location\": {\"address1\": \"47- 11 Van Dam St\", \"address2\": null, \"address3\": \"\", \"city\": \"Long Island City\", \"zip_code\": \"11101\", \"country\": \"US\", \"state\": \"NY\", \"display_address\": [\"47- 11 Van Dam St\", \"Long Island City, NY 11101\"]}, \"phone\": \"+17183619152\", \"display_phone\": \"(718) 361-9152\", \"distance\": 9996.588059135383}, {\"id\": \"4sPiNeQGD8mzt9ess7xZrQ\", \"alias\": \"mad-axe-brooklyn\", \"name\": \"Mad Axe\", \"image_url\": \"https://s3-media4.fl.yelpcdn.com/bphoto/UOC-BswrAMfq9dX6MXxa8Q/o.jpg\", \"is_closed\": false, \"url\": \"https://www.yelp.com/biz/mad-axe-brooklyn?adjust_creative=I5MSPS50pTBiLcSQDr6HLw&utm_campaign=yelp_api_v3&utm_medium=api_v3_business_search&utm_source=I5MSPS50pTBiLcSQDr6HLw\", \"review_count\": 13, \"categories\": [{\"alias\": \"axethrowing\", \"title\": \"Axe Throwing\"}], \"rating\": 5.0, \"coordinates\": {\"latitude\": 40.707, \"longitude\": -73.93364}, \"transactions\": [], \"location\": {\"address1\": \"94 Bogart Street 2nd\", \"address2\": null, \"address3\": \"\", \"city\": \"Brooklyn\", \"zip_code\": \"11206\", \"country\": \"US\", \"state\": \"NY\", \"display_address\": [\"94 Bogart Street 2nd\", \"Brooklyn, NY 11206\"]}, \"phone\": \"+19292950229\", \"display_phone\": \"(929) 295-0229\", \"distance\": 6101.731538019727}, {\"id\": \"lZVE27r_W_3GXxNwECYC4g\", \"alias\": \"live-axe-new-york\", \"name\": \"Live Axe\", \"image_url\": \"https://s3-media2.fl.yelpcdn.com/bphoto/-Z1qvni_2N-K85FHmaesaQ/o.jpg\", \"is_closed\": false, \"url\": \"https://www.yelp.com/biz/live-axe-new-york?adjust_creative=I5MSPS50pTBiLcSQDr6HLw&utm_campaign=yelp_api_v3&utm_medium=api_v3_business_search&utm_source=I5MSPS50pTBiLcSQDr6HLw\", \"review_count\": 7, \"categories\": [{\"alias\": \"axethrowing\", \"title\": \"Axe Throwing\"}, {\"alias\": \"bars\", \"title\": \"Bars\"}], \"rating\": 4.5, \"coordinates\": {\"latitude\": 40.71769, \"longitude\": -74.00144}, \"transactions\": [], \"location\": {\"address1\": \"96 Lafayette St\", \"address2\": null, \"address3\": null, \"city\": \"New York\", \"zip_code\": \"10013\", \"country\": \"US\", \"state\": \"NY\", \"display_address\": [\"96 Lafayette St\", \"New York, NY 10013\"]}, \"phone\": \"+18888129060\", \"display_phone\": \"(888) 812-9060\", \"distance\": 8955.976101576549}, {\"id\": \"b9DAbR-1eIfLr6TPI_r59Q\", \"alias\": \"axe-kicking-entertainment-mineola\", \"name\": \"Axe Kicking Entertainment\", \"image_url\": \"https://s3-media2.fl.yelpcdn.com/bphoto/bBooTB1Ja2PSGTGLhbAjVg/o.jpg\", \"is_closed\": false, \"url\": \"https://www.yelp.com/biz/axe-kicking-entertainment-mineola?adjust_creative=I5MSPS50pTBiLcSQDr6HLw&utm_campaign=yelp_api_v3&utm_medium=api_v3_business_search&utm_source=I5MSPS50pTBiLcSQDr6HLw\", \"review_count\": 7, \"categories\": [{\"alias\": \"axethrowing\", \"title\": \"Axe Throwing\"}, {\"alias\": \"archery\", \"title\": \"Archery\"}, {\"alias\": \"bowling\", \"title\": \"Bowling\"}], \"rating\": 5.0, \"coordinates\": {\"latitude\": 40.74638, \"longitude\": -73.65027}, \"transactions\": [], \"location\": {\"address1\": \"360 Jericho Turnpike\", \"address2\": null, \"address3\": \"\", \"city\": \"Mineola\", \"zip_code\": \"11501\", \"country\": \"US\", \"state\": \"NY\", \"display_address\": [\"360 Jericho Turnpike\", \"Mineola, NY 11501\"]}, \"phone\": \"+15162806040\", \"display_phone\": \"(516) 280-6040\", \"distance\": 26518.825160012875}, {\"id\": \"Ub7igTH4-w5haq_bHmvFjQ\", \"alias\": \"hatchets-and-hops-brooklyn\", \"name\": \"Hatchets & Hops\", \"image_url\": \"https://s3-media2.fl.yelpcdn.com/bphoto/XfyHGdIjuF3dufr1NgMqBA/o.jpg\", \"is_closed\": false, \"url\": \"https://www.yelp.com/biz/hatchets-and-hops-brooklyn?adjust_creative=I5MSPS50pTBiLcSQDr6HLw&utm_campaign=yelp_api_v3&utm_medium=api_v3_business_search&utm_source=I5MSPS50pTBiLcSQDr6HLw\", \"review_count\": 1, \"categories\": [{\"alias\": \"axethrowing\", \"title\": \"Axe Throwing\"}, {\"alias\": \"bars\", \"title\": \"Bars\"}], \"rating\": 5.0, \"coordinates\": {\"latitude\": 40.721237, \"longitude\": -73.957603}, \"transactions\": [], \"location\": {\"address1\": \"98 North 11th St\", \"address2\": null, \"address3\": \"\", \"city\": \"Brooklyn\", \"zip_code\": \"11249\", \"country\": \"US\", \"state\": \"NY\", \"display_address\": [\"98 North 11th St\", \"Brooklyn, NY 11249\"]}, \"phone\": \"+18559512973\", \"display_phone\": \"(855) 951-2973\", \"distance\": 7814.584675164627}, {\"id\": \"K_Jm8V-XuOFlbHb_VUzk-w\", \"alias\": \"indoor-extreme-sports-long-island-city\", \"name\": \"Indoor Extreme Sports\", \"image_url\": \"https://s3-media2.fl.yelpcdn.com/bphoto/wQE-gOKf-shCB4sDI2WmhQ/o.jpg\", \"is_closed\": false, \"url\": \"https://www.yelp.com/biz/indoor-extreme-sports-long-island-city?adjust_creative=I5MSPS50pTBiLcSQDr6HLw&utm_campaign=yelp_api_v3&utm_medium=api_v3_business_search&utm_source=I5MSPS50pTBiLcSQDr6HLw\", \"review_count\": 509, \"categories\": [{\"alias\": \"paintball\", \"title\": \"Paintball\"}, {\"alias\": \"lasertag\", \"title\": \"Laser Tag\"}, {\"alias\": \"axethrowing\", \"title\": \"Axe Throwing\"}], \"rating\": 4.0, \"coordinates\": {\"latitude\": 40.7422746, \"longitude\": -73.9338804}, \"transactions\": [], \"location\": {\"address1\": \"47 11 Van Dam St\", \"address2\": null, \"address3\": \"\", \"city\": \"Long Island City\", \"zip_code\": \"11101\", \"country\": \"US\", \"state\": \"NY\", \"display_address\": [\"47 11 Van Dam St\", \"Long Island City, NY 11101\"]}, \"phone\": \"+17183619152\", \"display_phone\": \"(718) 361-9152\", \"distance\": 10012.024588128}, {\"id\": \"yXOjBSwyqOKDY7oHx3z7HA\", \"alias\": \"tomahawks-jersey-city\", \"name\": \"Tomahawks\", \"image_url\": \"https://s3-media1.fl.yelpcdn.com/bphoto/AcR-ExIWOWPNXRr6G5cGQw/o.jpg\", \"is_closed\": false, \"url\": \"https://www.yelp.com/biz/tomahawks-jersey-city?adjust_creative=I5MSPS50pTBiLcSQDr6HLw&utm_campaign=yelp_api_v3&utm_medium=api_v3_business_search&utm_source=I5MSPS50pTBiLcSQDr6HLw\", \"review_count\": 14, \"categories\": [{\"alias\": \"axethrowing\", \"title\": \"Axe Throwing\"}], \"rating\": 4.5, \"coordinates\": {\"latitude\": 40.7411216, \"longitude\": -74.0493572}, \"transactions\": [], \"location\": {\"address1\": \"7 Sherman Ave\", \"address2\": \"Fl 2\", \"address3\": \"\", \"city\": \"Jersey City\", \"zip_code\": \"07307\", \"country\": \"US\", \"state\": \"NJ\", \"display_address\": [\"7 Sherman Ave\", \"Fl 2\", \"Jersey City, NJ 07307\"]}, \"phone\": \"+12014209722\", \"display_phone\": \"(201) 420-9722\", \"distance\": 13556.0314007906}, {\"id\": \"wuy6jyi5cxm1pwnUTWyBLw\", \"alias\": \"stumpys-hatchet-house-fairfield-fairfield-3\", \"name\": \"Stumpy\\'s Hatchet House - Fairfield\", \"image_url\": \"https://s3-media1.fl.yelpcdn.com/bphoto/yKG858jIoenW0jLpq6Hg1A/o.jpg\", \"is_closed\": false, \"url\": \"https://www.yelp.com/biz/stumpys-hatchet-house-fairfield-fairfield-3?adjust_creative=I5MSPS50pTBiLcSQDr6HLw&utm_campaign=yelp_api_v3&utm_medium=api_v3_business_search&utm_source=I5MSPS50pTBiLcSQDr6HLw\", \"review_count\": 45, \"categories\": [{\"alias\": \"axethrowing\", \"title\": \"Axe Throwing\"}, {\"alias\": \"recreation\", \"title\": \"Recreation Centers\"}], \"rating\": 5.0, \"coordinates\": {\"latitude\": 40.882466, \"longitude\": -74.2942046508915}, \"transactions\": [], \"location\": {\"address1\": \"373 US-46 W\", \"address2\": \"Ste D140\", \"address3\": \"\", \"city\": \"Fairfield\", \"zip_code\": \"07004\", \"country\": \"US\", \"state\": \"NJ\", \"display_address\": [\"373 US-46 W\", \"Ste D140\", \"Fairfield, NJ 07004\"]}, \"phone\": \"+19737213120\", \"display_phone\": \"(973) 721-3120\", \"distance\": 39342.64728763023}, {\"id\": \"oKkn9nKh6jB-fsQIDbP4tQ\", \"alias\": \"bury-the-hatchet-matawan\", \"name\": \"Bury The Hatchet\", \"image_url\": \"https://s3-media1.fl.yelpcdn.com/bphoto/EsKEUTyvjjzdr6SzTzubSQ/o.jpg\", \"is_closed\": false, \"url\": \"https://www.yelp.com/biz/bury-the-hatchet-matawan?adjust_creative=I5MSPS50pTBiLcSQDr6HLw&utm_campaign=yelp_api_v3&utm_medium=api_v3_business_search&utm_source=I5MSPS50pTBiLcSQDr6HLw\", \"review_count\": 91, \"categories\": [{\"alias\": \"axethrowing\", \"title\": \"Axe Throwing\"}, {\"alias\": \"teambuilding\", \"title\": \"Team Building Activities\"}], \"rating\": 5.0, \"coordinates\": {\"latitude\": 40.4234040521118, \"longitude\": -74.2643531039357}, \"transactions\": [], \"location\": {\"address1\": \"419 Route 34\", \"address2\": \"\", \"address3\": null, \"city\": \"Matawan\", \"zip_code\": \"07747\", \"country\": \"US\", \"state\": \"NJ\", \"display_address\": [\"419 Route 34\", \"Matawan, NJ 07747\"]}, \"phone\": \"+17329626284\", \"display_phone\": \"(732) 962-6284\", \"distance\": 37446.224760844736}, {\"id\": \"xC9gtq17G9XU5d-yjkprfA\", \"alias\": \"bury-the-hatchet-paramus-axe-throwing-paramus-2\", \"name\": \"Bury the Hatchet Paramus - Axe Throwing\", \"image_url\": \"https://s3-media4.fl.yelpcdn.com/bphoto/2z7jvctXJEeKUBKB-XIPSg/o.jpg\", \"is_closed\": false, \"url\": \"https://www.yelp.com/biz/bury-the-hatchet-paramus-axe-throwing-paramus-2?adjust_creative=I5MSPS50pTBiLcSQDr6HLw&utm_campaign=yelp_api_v3&utm_medium=api_v3_business_search&utm_source=I5MSPS50pTBiLcSQDr6HLw\", \"review_count\": 75, \"categories\": [{\"alias\": \"axethrowing\", \"title\": \"Axe Throwing\"}], \"rating\": 4.0, \"coordinates\": {\"latitude\": 40.9486345940514, \"longitude\": -74.0677446595245}, \"transactions\": [], \"location\": {\"address1\": \"49 E Midland Ave\", \"address2\": null, \"address3\": \"\", \"city\": \"Paramus\", \"zip_code\": \"07652\", \"country\": \"US\", \"state\": \"NJ\", \"display_address\": [\"49 E Midland Ave\", \"Paramus, NJ 07652\"]}, \"phone\": \"+12016883358\", \"display_phone\": \"(201) 688-3358\", \"distance\": 34674.4395003575}, {\"id\": \"1BUoVTCYSpGfG0oobAr5Hg\", \"alias\": \"bury-the-hatchet-axe-throwing-bloomfield-bloomfield\", \"name\": \"Bury The Hatchet Axe Throwing- Bloomfield\", \"image_url\": \"https://s3-media2.fl.yelpcdn.com/bphoto/Y6OdaWjNZKFNKuSdl-rU3w/o.jpg\", \"is_closed\": false, \"url\": \"https://www.yelp.com/biz/bury-the-hatchet-axe-throwing-bloomfield-bloomfield?adjust_creative=I5MSPS50pTBiLcSQDr6HLw&utm_campaign=yelp_api_v3&utm_medium=api_v3_business_search&utm_source=I5MSPS50pTBiLcSQDr6HLw\", \"review_count\": 91, \"categories\": [{\"alias\": \"axethrowing\", \"title\": \"Axe Throwing\"}], \"rating\": 4.5, \"coordinates\": {\"latitude\": 40.79607, \"longitude\": -74.2003299}, \"transactions\": [], \"location\": {\"address1\": \"672 Bloomfield Ave\", \"address2\": null, \"address3\": \"\", \"city\": \"Bloomfield\", \"zip_code\": \"07003\", \"country\": \"US\", \"state\": \"NJ\", \"display_address\": [\"672 Bloomfield Ave\", \"Bloomfield, NJ 07003\"]}, \"phone\": \"+19738427725\", \"display_phone\": \"(973) 842-7725\", \"distance\": 27173.957270887662}, {\"id\": \"5izrkxTF_OWgwEdgzjNCAA\", \"alias\": \"bury-the-hatchet-woodbridge-axe-throwing-avenel\", \"name\": \"Bury The Hatchet Woodbridge - Axe Throwing\", \"image_url\": \"https://s3-media2.fl.yelpcdn.com/bphoto/ZhVxhmy3BDOGaEwflbF9RA/o.jpg\", \"is_closed\": false, \"url\": \"https://www.yelp.com/biz/bury-the-hatchet-woodbridge-axe-throwing-avenel?adjust_creative=I5MSPS50pTBiLcSQDr6HLw&utm_campaign=yelp_api_v3&utm_medium=api_v3_business_search&utm_source=I5MSPS50pTBiLcSQDr6HLw\", \"review_count\": 8, \"categories\": [{\"alias\": \"axethrowing\", \"title\": \"Axe Throwing\"}], \"rating\": 4.5, \"coordinates\": {\"latitude\": 40.5919, \"longitude\": -74.28943}, \"transactions\": [], \"location\": {\"address1\": \"1600 St Georges Ave\", \"address2\": null, \"address3\": \"\", \"city\": \"Avenel\", \"zip_code\": \"07001\", \"country\": \"US\", \"state\": \"NJ\", \"display_address\": [\"1600 St Georges Ave\", \"Avenel, NJ 07001\"]}, \"phone\": \"+17322986614\", \"display_phone\": \"(732) 298-6614\", \"distance\": 30246.00489811494}, {\"id\": \"BOYnPH11OTCMPzxiPJXHpw\", \"alias\": \"hatchet-house-hackensack-3\", \"name\": \"Hatchet House\", \"image_url\": \"https://s3-media3.fl.yelpcdn.com/bphoto/1BayJ29kv-F92Dqy7uboDA/o.jpg\", \"is_closed\": false, \"url\": \"https://www.yelp.com/biz/hatchet-house-hackensack-3?adjust_creative=I5MSPS50pTBiLcSQDr6HLw&utm_campaign=yelp_api_v3&utm_medium=api_v3_business_search&utm_source=I5MSPS50pTBiLcSQDr6HLw\", \"review_count\": 1, \"categories\": [{\"alias\": \"axethrowing\", \"title\": \"Axe Throwing\"}, {\"alias\": \"venues\", \"title\": \"Venues & Event Spaces\"}, {\"alias\": \"paintball\", \"title\": \"Paintball\"}], \"rating\": 3.0, \"coordinates\": {\"latitude\": 40.8832357904038, \"longitude\": -74.0432552620768}, \"transactions\": [], \"location\": {\"address1\": \"157A Main St\", \"address2\": \"\", \"address3\": null, \"city\": \"Hackensack\", \"zip_code\": \"07601\", \"country\": \"US\", \"state\": \"NJ\", \"display_address\": [\"157A Main St\", \"Hackensack, NJ 07601\"]}, \"phone\": \"+18332934653\", \"display_phone\": \"(833) 293-4653\", \"distance\": 27125.32070094518}, {\"id\": \"LN1itZNPsylqInDsLG4M_g\", \"alias\": \"new-york-sports-clubs-new-york-73\", \"name\": \"New York Sports Clubs\", \"image_url\": \"https://s3-media2.fl.yelpcdn.com/bphoto/eMLTokizDk84J50jB3gmzw/o.jpg\", \"is_closed\": false, \"url\": \"https://www.yelp.com/biz/new-york-sports-clubs-new-york-73?adjust_creative=I5MSPS50pTBiLcSQDr6HLw&utm_campaign=yelp_api_v3&utm_medium=api_v3_business_search&utm_source=I5MSPS50pTBiLcSQDr6HLw\", \"review_count\": 105, \"categories\": [{\"alias\": \"gyms\", \"title\": \"Gyms\"}, {\"alias\": \"healthtrainers\", \"title\": \"Trainers\"}, {\"alias\": \"sports_clubs\", \"title\": \"Sports Clubs\"}], \"rating\": 2.0, \"coordinates\": {\"latitude\": 40.7455891, \"longitude\": -73.9980521}, \"transactions\": [], \"location\": {\"address1\": \"270 8th Ave\", \"address2\": \"\", \"address3\": \"\", \"city\": \"New York\", \"zip_code\": \"10011\", \"country\": \"US\", \"state\": \"NY\", \"display_address\": [\"270 8th Ave\", \"New York, NY 10011\"]}, \"phone\": \"+12122433400\", \"display_phone\": \"(212) 243-3400\", \"distance\": 11489.778200039469}, {\"id\": \"0OJWRkAI-iot-dtKX6BjbQ\", \"alias\": \"queens-archery-flushing\", \"name\": \"Queens Archery\", \"image_url\": \"https://s3-media3.fl.yelpcdn.com/bphoto/lXOzZPUHPPdu8iGsaH38nA/o.jpg\", \"is_closed\": false, \"url\": \"https://www.yelp.com/biz/queens-archery-flushing?adjust_creative=I5MSPS50pTBiLcSQDr6HLw&utm_campaign=yelp_api_v3&utm_medium=api_v3_business_search&utm_source=I5MSPS50pTBiLcSQDr6HLw\", \"review_count\": 363, \"categories\": [{\"alias\": \"sports_clubs\", \"title\": \"Sports Clubs\"}, {\"alias\": \"archery\", \"title\": \"Archery\"}], \"rating\": 4.5, \"coordinates\": {\"latitude\": 40.76137, \"longitude\": -73.79556}, \"transactions\": [], \"location\": {\"address1\": \"170-20 39th Ave\", \"address2\": \"\", \"address3\": \"\", \"city\": \"Flushing\", \"zip_code\": \"11358\", \"country\": \"US\", \"state\": \"NY\", \"display_address\": [\"170-20 39th Ave\", \"Flushing, NY 11358\"]}, \"phone\": \"+17184611756\", \"display_phone\": \"(718) 461-1756\", \"distance\": 17134.395523061943}], \"total\": 27, \"region\": {\"center\": {\"longitude\": -73.93936157226562, \"latitude\": 40.652330148320374}}}'"
      ]
     },
     "execution_count": 8,
     "metadata": {},
     "output_type": "execute_result"
    }
   ],
   "source": [
    "response.text"
   ]
  },
  {
   "cell_type": "code",
   "execution_count": 9,
   "metadata": {},
   "outputs": [],
   "source": [
    "import json"
   ]
  },
  {
   "cell_type": "code",
   "execution_count": 10,
   "metadata": {},
   "outputs": [],
   "source": [
    "axe_throwing = json.loads(response.text)"
   ]
  },
  {
   "cell_type": "code",
   "execution_count": 11,
   "metadata": {},
   "outputs": [
    {
     "data": {
      "text/plain": [
       "{'businesses': [{'id': 'X0DNGKUQPjf0AfaXfXU2Qg',\n",
       "   'alias': 'kick-axe-throwing-brooklyn-2',\n",
       "   'name': 'Kick Axe Throwing',\n",
       "   'image_url': 'https://s3-media1.fl.yelpcdn.com/bphoto/WjKylwrUBKnGIE_ldj142Q/o.jpg',\n",
       "   'is_closed': False,\n",
       "   'url': 'https://www.yelp.com/biz/kick-axe-throwing-brooklyn-2?adjust_creative=I5MSPS50pTBiLcSQDr6HLw&utm_campaign=yelp_api_v3&utm_medium=api_v3_business_search&utm_source=I5MSPS50pTBiLcSQDr6HLw',\n",
       "   'review_count': 404,\n",
       "   'categories': [{'alias': 'bars', 'title': 'Bars'},\n",
       "    {'alias': 'axethrowing', 'title': 'Axe Throwing'},\n",
       "    {'alias': 'tradamerican', 'title': 'American (Traditional)'}],\n",
       "   'rating': 4.5,\n",
       "   'coordinates': {'latitude': 40.6790268, 'longitude': -73.983077},\n",
       "   'transactions': [],\n",
       "   'location': {'address1': '622 Degraw St',\n",
       "    'address2': None,\n",
       "    'address3': '',\n",
       "    'city': 'Brooklyn',\n",
       "    'zip_code': '11217',\n",
       "    'country': 'US',\n",
       "    'state': 'NY',\n",
       "    'display_address': ['622 Degraw St', 'Brooklyn, NY 11217']},\n",
       "   'phone': '+18335425293',\n",
       "   'display_phone': '(833) 542-5293',\n",
       "   'distance': 4733.616620254917},\n",
       "  {'id': '4E6BkrEVf_0TjRVYE7gxeQ',\n",
       "   'alias': 'bury-the-hatchet-brooklyn-axe-throwing-brooklyn-2',\n",
       "   'name': 'Bury the Hatchet Brooklyn - Axe Throwing',\n",
       "   'image_url': 'https://s3-media3.fl.yelpcdn.com/bphoto/SH8_Nwmd13LkntwuzcEPeg/o.jpg',\n",
       "   'is_closed': False,\n",
       "   'url': 'https://www.yelp.com/biz/bury-the-hatchet-brooklyn-axe-throwing-brooklyn-2?adjust_creative=I5MSPS50pTBiLcSQDr6HLw&utm_campaign=yelp_api_v3&utm_medium=api_v3_business_search&utm_source=I5MSPS50pTBiLcSQDr6HLw',\n",
       "   'review_count': 155,\n",
       "   'categories': [{'alias': 'axethrowing', 'title': 'Axe Throwing'},\n",
       "    {'alias': 'teambuilding', 'title': 'Team Building Activities'}],\n",
       "   'rating': 4.5,\n",
       "   'coordinates': {'latitude': 40.7283195, 'longitude': -73.9600679},\n",
       "   'transactions': [],\n",
       "   'location': {'address1': '25 Noble St',\n",
       "    'address2': None,\n",
       "    'address3': '',\n",
       "    'city': 'Brooklyn',\n",
       "    'zip_code': '11222',\n",
       "    'country': 'US',\n",
       "    'state': 'NY',\n",
       "    'display_address': ['25 Noble St', 'Brooklyn, NY 11222']},\n",
       "   'phone': '+19172439696',\n",
       "   'display_phone': '(917) 243-9696',\n",
       "   'distance': 8652.979400045351},\n",
       "  {'id': 'PhEkSzYZHKYS7uyXePmkMw',\n",
       "   'alias': 'axes-and-arrows-long-island-city-2',\n",
       "   'name': 'Axes And Arrows',\n",
       "   'image_url': 'https://s3-media4.fl.yelpcdn.com/bphoto/Uinh_osn8ykDeLoigmgo0Q/o.jpg',\n",
       "   'is_closed': False,\n",
       "   'url': 'https://www.yelp.com/biz/axes-and-arrows-long-island-city-2?adjust_creative=I5MSPS50pTBiLcSQDr6HLw&utm_campaign=yelp_api_v3&utm_medium=api_v3_business_search&utm_source=I5MSPS50pTBiLcSQDr6HLw',\n",
       "   'review_count': 49,\n",
       "   'categories': [{'alias': 'axethrowing', 'title': 'Axe Throwing'},\n",
       "    {'alias': 'archery', 'title': 'Archery'}],\n",
       "   'rating': 4.5,\n",
       "   'coordinates': {'latitude': 40.7425127, 'longitude': -73.933816},\n",
       "   'transactions': [],\n",
       "   'location': {'address1': '47- 11 Van Dam St',\n",
       "    'address2': None,\n",
       "    'address3': '',\n",
       "    'city': 'Long Island City',\n",
       "    'zip_code': '11101',\n",
       "    'country': 'US',\n",
       "    'state': 'NY',\n",
       "    'display_address': ['47- 11 Van Dam St', 'Long Island City, NY 11101']},\n",
       "   'phone': '+17183619152',\n",
       "   'display_phone': '(718) 361-9152',\n",
       "   'distance': 9996.588059135383},\n",
       "  {'id': '4sPiNeQGD8mzt9ess7xZrQ',\n",
       "   'alias': 'mad-axe-brooklyn',\n",
       "   'name': 'Mad Axe',\n",
       "   'image_url': 'https://s3-media4.fl.yelpcdn.com/bphoto/UOC-BswrAMfq9dX6MXxa8Q/o.jpg',\n",
       "   'is_closed': False,\n",
       "   'url': 'https://www.yelp.com/biz/mad-axe-brooklyn?adjust_creative=I5MSPS50pTBiLcSQDr6HLw&utm_campaign=yelp_api_v3&utm_medium=api_v3_business_search&utm_source=I5MSPS50pTBiLcSQDr6HLw',\n",
       "   'review_count': 13,\n",
       "   'categories': [{'alias': 'axethrowing', 'title': 'Axe Throwing'}],\n",
       "   'rating': 5.0,\n",
       "   'coordinates': {'latitude': 40.707, 'longitude': -73.93364},\n",
       "   'transactions': [],\n",
       "   'location': {'address1': '94 Bogart Street 2nd',\n",
       "    'address2': None,\n",
       "    'address3': '',\n",
       "    'city': 'Brooklyn',\n",
       "    'zip_code': '11206',\n",
       "    'country': 'US',\n",
       "    'state': 'NY',\n",
       "    'display_address': ['94 Bogart Street 2nd', 'Brooklyn, NY 11206']},\n",
       "   'phone': '+19292950229',\n",
       "   'display_phone': '(929) 295-0229',\n",
       "   'distance': 6101.731538019727},\n",
       "  {'id': 'lZVE27r_W_3GXxNwECYC4g',\n",
       "   'alias': 'live-axe-new-york',\n",
       "   'name': 'Live Axe',\n",
       "   'image_url': 'https://s3-media2.fl.yelpcdn.com/bphoto/-Z1qvni_2N-K85FHmaesaQ/o.jpg',\n",
       "   'is_closed': False,\n",
       "   'url': 'https://www.yelp.com/biz/live-axe-new-york?adjust_creative=I5MSPS50pTBiLcSQDr6HLw&utm_campaign=yelp_api_v3&utm_medium=api_v3_business_search&utm_source=I5MSPS50pTBiLcSQDr6HLw',\n",
       "   'review_count': 7,\n",
       "   'categories': [{'alias': 'axethrowing', 'title': 'Axe Throwing'},\n",
       "    {'alias': 'bars', 'title': 'Bars'}],\n",
       "   'rating': 4.5,\n",
       "   'coordinates': {'latitude': 40.71769, 'longitude': -74.00144},\n",
       "   'transactions': [],\n",
       "   'location': {'address1': '96 Lafayette St',\n",
       "    'address2': None,\n",
       "    'address3': None,\n",
       "    'city': 'New York',\n",
       "    'zip_code': '10013',\n",
       "    'country': 'US',\n",
       "    'state': 'NY',\n",
       "    'display_address': ['96 Lafayette St', 'New York, NY 10013']},\n",
       "   'phone': '+18888129060',\n",
       "   'display_phone': '(888) 812-9060',\n",
       "   'distance': 8955.976101576549},\n",
       "  {'id': 'b9DAbR-1eIfLr6TPI_r59Q',\n",
       "   'alias': 'axe-kicking-entertainment-mineola',\n",
       "   'name': 'Axe Kicking Entertainment',\n",
       "   'image_url': 'https://s3-media2.fl.yelpcdn.com/bphoto/bBooTB1Ja2PSGTGLhbAjVg/o.jpg',\n",
       "   'is_closed': False,\n",
       "   'url': 'https://www.yelp.com/biz/axe-kicking-entertainment-mineola?adjust_creative=I5MSPS50pTBiLcSQDr6HLw&utm_campaign=yelp_api_v3&utm_medium=api_v3_business_search&utm_source=I5MSPS50pTBiLcSQDr6HLw',\n",
       "   'review_count': 7,\n",
       "   'categories': [{'alias': 'axethrowing', 'title': 'Axe Throwing'},\n",
       "    {'alias': 'archery', 'title': 'Archery'},\n",
       "    {'alias': 'bowling', 'title': 'Bowling'}],\n",
       "   'rating': 5.0,\n",
       "   'coordinates': {'latitude': 40.74638, 'longitude': -73.65027},\n",
       "   'transactions': [],\n",
       "   'location': {'address1': '360 Jericho Turnpike',\n",
       "    'address2': None,\n",
       "    'address3': '',\n",
       "    'city': 'Mineola',\n",
       "    'zip_code': '11501',\n",
       "    'country': 'US',\n",
       "    'state': 'NY',\n",
       "    'display_address': ['360 Jericho Turnpike', 'Mineola, NY 11501']},\n",
       "   'phone': '+15162806040',\n",
       "   'display_phone': '(516) 280-6040',\n",
       "   'distance': 26518.825160012875},\n",
       "  {'id': 'Ub7igTH4-w5haq_bHmvFjQ',\n",
       "   'alias': 'hatchets-and-hops-brooklyn',\n",
       "   'name': 'Hatchets & Hops',\n",
       "   'image_url': 'https://s3-media2.fl.yelpcdn.com/bphoto/XfyHGdIjuF3dufr1NgMqBA/o.jpg',\n",
       "   'is_closed': False,\n",
       "   'url': 'https://www.yelp.com/biz/hatchets-and-hops-brooklyn?adjust_creative=I5MSPS50pTBiLcSQDr6HLw&utm_campaign=yelp_api_v3&utm_medium=api_v3_business_search&utm_source=I5MSPS50pTBiLcSQDr6HLw',\n",
       "   'review_count': 1,\n",
       "   'categories': [{'alias': 'axethrowing', 'title': 'Axe Throwing'},\n",
       "    {'alias': 'bars', 'title': 'Bars'}],\n",
       "   'rating': 5.0,\n",
       "   'coordinates': {'latitude': 40.721237, 'longitude': -73.957603},\n",
       "   'transactions': [],\n",
       "   'location': {'address1': '98 North 11th St',\n",
       "    'address2': None,\n",
       "    'address3': '',\n",
       "    'city': 'Brooklyn',\n",
       "    'zip_code': '11249',\n",
       "    'country': 'US',\n",
       "    'state': 'NY',\n",
       "    'display_address': ['98 North 11th St', 'Brooklyn, NY 11249']},\n",
       "   'phone': '+18559512973',\n",
       "   'display_phone': '(855) 951-2973',\n",
       "   'distance': 7814.584675164627},\n",
       "  {'id': 'K_Jm8V-XuOFlbHb_VUzk-w',\n",
       "   'alias': 'indoor-extreme-sports-long-island-city',\n",
       "   'name': 'Indoor Extreme Sports',\n",
       "   'image_url': 'https://s3-media2.fl.yelpcdn.com/bphoto/wQE-gOKf-shCB4sDI2WmhQ/o.jpg',\n",
       "   'is_closed': False,\n",
       "   'url': 'https://www.yelp.com/biz/indoor-extreme-sports-long-island-city?adjust_creative=I5MSPS50pTBiLcSQDr6HLw&utm_campaign=yelp_api_v3&utm_medium=api_v3_business_search&utm_source=I5MSPS50pTBiLcSQDr6HLw',\n",
       "   'review_count': 509,\n",
       "   'categories': [{'alias': 'paintball', 'title': 'Paintball'},\n",
       "    {'alias': 'lasertag', 'title': 'Laser Tag'},\n",
       "    {'alias': 'axethrowing', 'title': 'Axe Throwing'}],\n",
       "   'rating': 4.0,\n",
       "   'coordinates': {'latitude': 40.7422746, 'longitude': -73.9338804},\n",
       "   'transactions': [],\n",
       "   'location': {'address1': '47 11 Van Dam St',\n",
       "    'address2': None,\n",
       "    'address3': '',\n",
       "    'city': 'Long Island City',\n",
       "    'zip_code': '11101',\n",
       "    'country': 'US',\n",
       "    'state': 'NY',\n",
       "    'display_address': ['47 11 Van Dam St', 'Long Island City, NY 11101']},\n",
       "   'phone': '+17183619152',\n",
       "   'display_phone': '(718) 361-9152',\n",
       "   'distance': 10012.024588128},\n",
       "  {'id': 'yXOjBSwyqOKDY7oHx3z7HA',\n",
       "   'alias': 'tomahawks-jersey-city',\n",
       "   'name': 'Tomahawks',\n",
       "   'image_url': 'https://s3-media1.fl.yelpcdn.com/bphoto/AcR-ExIWOWPNXRr6G5cGQw/o.jpg',\n",
       "   'is_closed': False,\n",
       "   'url': 'https://www.yelp.com/biz/tomahawks-jersey-city?adjust_creative=I5MSPS50pTBiLcSQDr6HLw&utm_campaign=yelp_api_v3&utm_medium=api_v3_business_search&utm_source=I5MSPS50pTBiLcSQDr6HLw',\n",
       "   'review_count': 14,\n",
       "   'categories': [{'alias': 'axethrowing', 'title': 'Axe Throwing'}],\n",
       "   'rating': 4.5,\n",
       "   'coordinates': {'latitude': 40.7411216, 'longitude': -74.0493572},\n",
       "   'transactions': [],\n",
       "   'location': {'address1': '7 Sherman Ave',\n",
       "    'address2': 'Fl 2',\n",
       "    'address3': '',\n",
       "    'city': 'Jersey City',\n",
       "    'zip_code': '07307',\n",
       "    'country': 'US',\n",
       "    'state': 'NJ',\n",
       "    'display_address': ['7 Sherman Ave', 'Fl 2', 'Jersey City, NJ 07307']},\n",
       "   'phone': '+12014209722',\n",
       "   'display_phone': '(201) 420-9722',\n",
       "   'distance': 13556.0314007906},\n",
       "  {'id': 'wuy6jyi5cxm1pwnUTWyBLw',\n",
       "   'alias': 'stumpys-hatchet-house-fairfield-fairfield-3',\n",
       "   'name': \"Stumpy's Hatchet House - Fairfield\",\n",
       "   'image_url': 'https://s3-media1.fl.yelpcdn.com/bphoto/yKG858jIoenW0jLpq6Hg1A/o.jpg',\n",
       "   'is_closed': False,\n",
       "   'url': 'https://www.yelp.com/biz/stumpys-hatchet-house-fairfield-fairfield-3?adjust_creative=I5MSPS50pTBiLcSQDr6HLw&utm_campaign=yelp_api_v3&utm_medium=api_v3_business_search&utm_source=I5MSPS50pTBiLcSQDr6HLw',\n",
       "   'review_count': 45,\n",
       "   'categories': [{'alias': 'axethrowing', 'title': 'Axe Throwing'},\n",
       "    {'alias': 'recreation', 'title': 'Recreation Centers'}],\n",
       "   'rating': 5.0,\n",
       "   'coordinates': {'latitude': 40.882466, 'longitude': -74.2942046508915},\n",
       "   'transactions': [],\n",
       "   'location': {'address1': '373 US-46 W',\n",
       "    'address2': 'Ste D140',\n",
       "    'address3': '',\n",
       "    'city': 'Fairfield',\n",
       "    'zip_code': '07004',\n",
       "    'country': 'US',\n",
       "    'state': 'NJ',\n",
       "    'display_address': ['373 US-46 W', 'Ste D140', 'Fairfield, NJ 07004']},\n",
       "   'phone': '+19737213120',\n",
       "   'display_phone': '(973) 721-3120',\n",
       "   'distance': 39342.64728763023},\n",
       "  {'id': 'oKkn9nKh6jB-fsQIDbP4tQ',\n",
       "   'alias': 'bury-the-hatchet-matawan',\n",
       "   'name': 'Bury The Hatchet',\n",
       "   'image_url': 'https://s3-media1.fl.yelpcdn.com/bphoto/EsKEUTyvjjzdr6SzTzubSQ/o.jpg',\n",
       "   'is_closed': False,\n",
       "   'url': 'https://www.yelp.com/biz/bury-the-hatchet-matawan?adjust_creative=I5MSPS50pTBiLcSQDr6HLw&utm_campaign=yelp_api_v3&utm_medium=api_v3_business_search&utm_source=I5MSPS50pTBiLcSQDr6HLw',\n",
       "   'review_count': 91,\n",
       "   'categories': [{'alias': 'axethrowing', 'title': 'Axe Throwing'},\n",
       "    {'alias': 'teambuilding', 'title': 'Team Building Activities'}],\n",
       "   'rating': 5.0,\n",
       "   'coordinates': {'latitude': 40.4234040521118,\n",
       "    'longitude': -74.2643531039357},\n",
       "   'transactions': [],\n",
       "   'location': {'address1': '419 Route 34',\n",
       "    'address2': '',\n",
       "    'address3': None,\n",
       "    'city': 'Matawan',\n",
       "    'zip_code': '07747',\n",
       "    'country': 'US',\n",
       "    'state': 'NJ',\n",
       "    'display_address': ['419 Route 34', 'Matawan, NJ 07747']},\n",
       "   'phone': '+17329626284',\n",
       "   'display_phone': '(732) 962-6284',\n",
       "   'distance': 37446.224760844736},\n",
       "  {'id': 'xC9gtq17G9XU5d-yjkprfA',\n",
       "   'alias': 'bury-the-hatchet-paramus-axe-throwing-paramus-2',\n",
       "   'name': 'Bury the Hatchet Paramus - Axe Throwing',\n",
       "   'image_url': 'https://s3-media4.fl.yelpcdn.com/bphoto/2z7jvctXJEeKUBKB-XIPSg/o.jpg',\n",
       "   'is_closed': False,\n",
       "   'url': 'https://www.yelp.com/biz/bury-the-hatchet-paramus-axe-throwing-paramus-2?adjust_creative=I5MSPS50pTBiLcSQDr6HLw&utm_campaign=yelp_api_v3&utm_medium=api_v3_business_search&utm_source=I5MSPS50pTBiLcSQDr6HLw',\n",
       "   'review_count': 75,\n",
       "   'categories': [{'alias': 'axethrowing', 'title': 'Axe Throwing'}],\n",
       "   'rating': 4.0,\n",
       "   'coordinates': {'latitude': 40.9486345940514,\n",
       "    'longitude': -74.0677446595245},\n",
       "   'transactions': [],\n",
       "   'location': {'address1': '49 E Midland Ave',\n",
       "    'address2': None,\n",
       "    'address3': '',\n",
       "    'city': 'Paramus',\n",
       "    'zip_code': '07652',\n",
       "    'country': 'US',\n",
       "    'state': 'NJ',\n",
       "    'display_address': ['49 E Midland Ave', 'Paramus, NJ 07652']},\n",
       "   'phone': '+12016883358',\n",
       "   'display_phone': '(201) 688-3358',\n",
       "   'distance': 34674.4395003575},\n",
       "  {'id': '1BUoVTCYSpGfG0oobAr5Hg',\n",
       "   'alias': 'bury-the-hatchet-axe-throwing-bloomfield-bloomfield',\n",
       "   'name': 'Bury The Hatchet Axe Throwing- Bloomfield',\n",
       "   'image_url': 'https://s3-media2.fl.yelpcdn.com/bphoto/Y6OdaWjNZKFNKuSdl-rU3w/o.jpg',\n",
       "   'is_closed': False,\n",
       "   'url': 'https://www.yelp.com/biz/bury-the-hatchet-axe-throwing-bloomfield-bloomfield?adjust_creative=I5MSPS50pTBiLcSQDr6HLw&utm_campaign=yelp_api_v3&utm_medium=api_v3_business_search&utm_source=I5MSPS50pTBiLcSQDr6HLw',\n",
       "   'review_count': 91,\n",
       "   'categories': [{'alias': 'axethrowing', 'title': 'Axe Throwing'}],\n",
       "   'rating': 4.5,\n",
       "   'coordinates': {'latitude': 40.79607, 'longitude': -74.2003299},\n",
       "   'transactions': [],\n",
       "   'location': {'address1': '672 Bloomfield Ave',\n",
       "    'address2': None,\n",
       "    'address3': '',\n",
       "    'city': 'Bloomfield',\n",
       "    'zip_code': '07003',\n",
       "    'country': 'US',\n",
       "    'state': 'NJ',\n",
       "    'display_address': ['672 Bloomfield Ave', 'Bloomfield, NJ 07003']},\n",
       "   'phone': '+19738427725',\n",
       "   'display_phone': '(973) 842-7725',\n",
       "   'distance': 27173.957270887662},\n",
       "  {'id': '5izrkxTF_OWgwEdgzjNCAA',\n",
       "   'alias': 'bury-the-hatchet-woodbridge-axe-throwing-avenel',\n",
       "   'name': 'Bury The Hatchet Woodbridge - Axe Throwing',\n",
       "   'image_url': 'https://s3-media2.fl.yelpcdn.com/bphoto/ZhVxhmy3BDOGaEwflbF9RA/o.jpg',\n",
       "   'is_closed': False,\n",
       "   'url': 'https://www.yelp.com/biz/bury-the-hatchet-woodbridge-axe-throwing-avenel?adjust_creative=I5MSPS50pTBiLcSQDr6HLw&utm_campaign=yelp_api_v3&utm_medium=api_v3_business_search&utm_source=I5MSPS50pTBiLcSQDr6HLw',\n",
       "   'review_count': 8,\n",
       "   'categories': [{'alias': 'axethrowing', 'title': 'Axe Throwing'}],\n",
       "   'rating': 4.5,\n",
       "   'coordinates': {'latitude': 40.5919, 'longitude': -74.28943},\n",
       "   'transactions': [],\n",
       "   'location': {'address1': '1600 St Georges Ave',\n",
       "    'address2': None,\n",
       "    'address3': '',\n",
       "    'city': 'Avenel',\n",
       "    'zip_code': '07001',\n",
       "    'country': 'US',\n",
       "    'state': 'NJ',\n",
       "    'display_address': ['1600 St Georges Ave', 'Avenel, NJ 07001']},\n",
       "   'phone': '+17322986614',\n",
       "   'display_phone': '(732) 298-6614',\n",
       "   'distance': 30246.00489811494},\n",
       "  {'id': 'BOYnPH11OTCMPzxiPJXHpw',\n",
       "   'alias': 'hatchet-house-hackensack-3',\n",
       "   'name': 'Hatchet House',\n",
       "   'image_url': 'https://s3-media3.fl.yelpcdn.com/bphoto/1BayJ29kv-F92Dqy7uboDA/o.jpg',\n",
       "   'is_closed': False,\n",
       "   'url': 'https://www.yelp.com/biz/hatchet-house-hackensack-3?adjust_creative=I5MSPS50pTBiLcSQDr6HLw&utm_campaign=yelp_api_v3&utm_medium=api_v3_business_search&utm_source=I5MSPS50pTBiLcSQDr6HLw',\n",
       "   'review_count': 1,\n",
       "   'categories': [{'alias': 'axethrowing', 'title': 'Axe Throwing'},\n",
       "    {'alias': 'venues', 'title': 'Venues & Event Spaces'},\n",
       "    {'alias': 'paintball', 'title': 'Paintball'}],\n",
       "   'rating': 3.0,\n",
       "   'coordinates': {'latitude': 40.8832357904038,\n",
       "    'longitude': -74.0432552620768},\n",
       "   'transactions': [],\n",
       "   'location': {'address1': '157A Main St',\n",
       "    'address2': '',\n",
       "    'address3': None,\n",
       "    'city': 'Hackensack',\n",
       "    'zip_code': '07601',\n",
       "    'country': 'US',\n",
       "    'state': 'NJ',\n",
       "    'display_address': ['157A Main St', 'Hackensack, NJ 07601']},\n",
       "   'phone': '+18332934653',\n",
       "   'display_phone': '(833) 293-4653',\n",
       "   'distance': 27125.32070094518},\n",
       "  {'id': 'LN1itZNPsylqInDsLG4M_g',\n",
       "   'alias': 'new-york-sports-clubs-new-york-73',\n",
       "   'name': 'New York Sports Clubs',\n",
       "   'image_url': 'https://s3-media2.fl.yelpcdn.com/bphoto/eMLTokizDk84J50jB3gmzw/o.jpg',\n",
       "   'is_closed': False,\n",
       "   'url': 'https://www.yelp.com/biz/new-york-sports-clubs-new-york-73?adjust_creative=I5MSPS50pTBiLcSQDr6HLw&utm_campaign=yelp_api_v3&utm_medium=api_v3_business_search&utm_source=I5MSPS50pTBiLcSQDr6HLw',\n",
       "   'review_count': 105,\n",
       "   'categories': [{'alias': 'gyms', 'title': 'Gyms'},\n",
       "    {'alias': 'healthtrainers', 'title': 'Trainers'},\n",
       "    {'alias': 'sports_clubs', 'title': 'Sports Clubs'}],\n",
       "   'rating': 2.0,\n",
       "   'coordinates': {'latitude': 40.7455891, 'longitude': -73.9980521},\n",
       "   'transactions': [],\n",
       "   'location': {'address1': '270 8th Ave',\n",
       "    'address2': '',\n",
       "    'address3': '',\n",
       "    'city': 'New York',\n",
       "    'zip_code': '10011',\n",
       "    'country': 'US',\n",
       "    'state': 'NY',\n",
       "    'display_address': ['270 8th Ave', 'New York, NY 10011']},\n",
       "   'phone': '+12122433400',\n",
       "   'display_phone': '(212) 243-3400',\n",
       "   'distance': 11489.778200039469},\n",
       "  {'id': '0OJWRkAI-iot-dtKX6BjbQ',\n",
       "   'alias': 'queens-archery-flushing',\n",
       "   'name': 'Queens Archery',\n",
       "   'image_url': 'https://s3-media3.fl.yelpcdn.com/bphoto/lXOzZPUHPPdu8iGsaH38nA/o.jpg',\n",
       "   'is_closed': False,\n",
       "   'url': 'https://www.yelp.com/biz/queens-archery-flushing?adjust_creative=I5MSPS50pTBiLcSQDr6HLw&utm_campaign=yelp_api_v3&utm_medium=api_v3_business_search&utm_source=I5MSPS50pTBiLcSQDr6HLw',\n",
       "   'review_count': 363,\n",
       "   'categories': [{'alias': 'sports_clubs', 'title': 'Sports Clubs'},\n",
       "    {'alias': 'archery', 'title': 'Archery'}],\n",
       "   'rating': 4.5,\n",
       "   'coordinates': {'latitude': 40.76137, 'longitude': -73.79556},\n",
       "   'transactions': [],\n",
       "   'location': {'address1': '170-20 39th Ave',\n",
       "    'address2': '',\n",
       "    'address3': '',\n",
       "    'city': 'Flushing',\n",
       "    'zip_code': '11358',\n",
       "    'country': 'US',\n",
       "    'state': 'NY',\n",
       "    'display_address': ['170-20 39th Ave', 'Flushing, NY 11358']},\n",
       "   'phone': '+17184611756',\n",
       "   'display_phone': '(718) 461-1756',\n",
       "   'distance': 17134.395523061943}],\n",
       " 'total': 27,\n",
       " 'region': {'center': {'longitude': -73.93936157226562,\n",
       "   'latitude': 40.652330148320374}}}"
      ]
     },
     "execution_count": 11,
     "metadata": {},
     "output_type": "execute_result"
    }
   ],
   "source": [
    "axe_throwing"
   ]
  },
  {
   "cell_type": "code",
   "execution_count": 12,
   "metadata": {},
   "outputs": [
    {
     "name": "stdout",
     "output_type": "stream",
     "text": [
      "businesses\n",
      "total\n",
      "region\n"
     ]
    }
   ],
   "source": [
    "for key in axe_throwing.keys():\n",
    "    print(key)"
   ]
  },
  {
   "cell_type": "code",
   "execution_count": 17,
   "metadata": {},
   "outputs": [
    {
     "data": {
      "text/plain": [
       "17"
      ]
     },
     "execution_count": 17,
     "metadata": {},
     "output_type": "execute_result"
    }
   ],
   "source": [
    "len(axe_throwing['businesses'])"
   ]
  },
  {
   "cell_type": "code",
   "execution_count": 18,
   "metadata": {},
   "outputs": [
    {
     "data": {
      "text/plain": [
       "{'id': 'X0DNGKUQPjf0AfaXfXU2Qg',\n",
       " 'alias': 'kick-axe-throwing-brooklyn-2',\n",
       " 'name': 'Kick Axe Throwing',\n",
       " 'image_url': 'https://s3-media1.fl.yelpcdn.com/bphoto/WjKylwrUBKnGIE_ldj142Q/o.jpg',\n",
       " 'is_closed': False,\n",
       " 'url': 'https://www.yelp.com/biz/kick-axe-throwing-brooklyn-2?adjust_creative=I5MSPS50pTBiLcSQDr6HLw&utm_campaign=yelp_api_v3&utm_medium=api_v3_business_search&utm_source=I5MSPS50pTBiLcSQDr6HLw',\n",
       " 'review_count': 404,\n",
       " 'categories': [{'alias': 'bars', 'title': 'Bars'},\n",
       "  {'alias': 'axethrowing', 'title': 'Axe Throwing'},\n",
       "  {'alias': 'tradamerican', 'title': 'American (Traditional)'}],\n",
       " 'rating': 4.5,\n",
       " 'coordinates': {'latitude': 40.6790268, 'longitude': -73.983077},\n",
       " 'transactions': [],\n",
       " 'location': {'address1': '622 Degraw St',\n",
       "  'address2': None,\n",
       "  'address3': '',\n",
       "  'city': 'Brooklyn',\n",
       "  'zip_code': '11217',\n",
       "  'country': 'US',\n",
       "  'state': 'NY',\n",
       "  'display_address': ['622 Degraw St', 'Brooklyn, NY 11217']},\n",
       " 'phone': '+18335425293',\n",
       " 'display_phone': '(833) 542-5293',\n",
       " 'distance': 4733.616620254917}"
      ]
     },
     "execution_count": 18,
     "metadata": {},
     "output_type": "execute_result"
    }
   ],
   "source": [
    "axe_throwing['businesses'][0]"
   ]
  },
  {
   "cell_type": "code",
   "execution_count": 19,
   "metadata": {},
   "outputs": [
    {
     "data": {
      "text/plain": [
       "27"
      ]
     },
     "execution_count": 19,
     "metadata": {},
     "output_type": "execute_result"
    }
   ],
   "source": [
    "axe_throwing['total']"
   ]
  },
  {
   "cell_type": "code",
   "execution_count": 20,
   "metadata": {},
   "outputs": [
    {
     "data": {
      "text/plain": [
       "{'center': {'longitude': -73.93936157226562, 'latitude': 40.652330148320374}}"
      ]
     },
     "execution_count": 20,
     "metadata": {},
     "output_type": "execute_result"
    }
   ],
   "source": [
    "axe_throwing['region']"
   ]
  },
  {
   "cell_type": "code",
   "execution_count": 21,
   "metadata": {},
   "outputs": [],
   "source": [
    "import pandas as pd"
   ]
  },
  {
   "cell_type": "code",
   "execution_count": 23,
   "metadata": {},
   "outputs": [],
   "source": [
    "df = pd.DataFrame.from_dict(axe_throwing['businesses'])"
   ]
  },
  {
   "cell_type": "code",
   "execution_count": 24,
   "metadata": {},
   "outputs": [
    {
     "data": {
      "text/html": [
       "<div>\n",
       "<style scoped>\n",
       "    .dataframe tbody tr th:only-of-type {\n",
       "        vertical-align: middle;\n",
       "    }\n",
       "\n",
       "    .dataframe tbody tr th {\n",
       "        vertical-align: top;\n",
       "    }\n",
       "\n",
       "    .dataframe thead th {\n",
       "        text-align: right;\n",
       "    }\n",
       "</style>\n",
       "<table border=\"1\" class=\"dataframe\">\n",
       "  <thead>\n",
       "    <tr style=\"text-align: right;\">\n",
       "      <th></th>\n",
       "      <th>id</th>\n",
       "      <th>alias</th>\n",
       "      <th>name</th>\n",
       "      <th>image_url</th>\n",
       "      <th>is_closed</th>\n",
       "      <th>url</th>\n",
       "      <th>review_count</th>\n",
       "      <th>categories</th>\n",
       "      <th>rating</th>\n",
       "      <th>coordinates</th>\n",
       "      <th>transactions</th>\n",
       "      <th>location</th>\n",
       "      <th>phone</th>\n",
       "      <th>display_phone</th>\n",
       "      <th>distance</th>\n",
       "    </tr>\n",
       "  </thead>\n",
       "  <tbody>\n",
       "    <tr>\n",
       "      <th>0</th>\n",
       "      <td>X0DNGKUQPjf0AfaXfXU2Qg</td>\n",
       "      <td>kick-axe-throwing-brooklyn-2</td>\n",
       "      <td>Kick Axe Throwing</td>\n",
       "      <td>https://s3-media1.fl.yelpcdn.com/bphoto/WjKylw...</td>\n",
       "      <td>False</td>\n",
       "      <td>https://www.yelp.com/biz/kick-axe-throwing-bro...</td>\n",
       "      <td>404</td>\n",
       "      <td>[{'alias': 'bars', 'title': 'Bars'}, {'alias':...</td>\n",
       "      <td>4.5</td>\n",
       "      <td>{'latitude': 40.6790268, 'longitude': -73.983077}</td>\n",
       "      <td>[]</td>\n",
       "      <td>{'address1': '622 Degraw St', 'address2': None...</td>\n",
       "      <td>+18335425293</td>\n",
       "      <td>(833) 542-5293</td>\n",
       "      <td>4733.616620</td>\n",
       "    </tr>\n",
       "    <tr>\n",
       "      <th>1</th>\n",
       "      <td>4E6BkrEVf_0TjRVYE7gxeQ</td>\n",
       "      <td>bury-the-hatchet-brooklyn-axe-throwing-brooklyn-2</td>\n",
       "      <td>Bury the Hatchet Brooklyn - Axe Throwing</td>\n",
       "      <td>https://s3-media3.fl.yelpcdn.com/bphoto/SH8_Nw...</td>\n",
       "      <td>False</td>\n",
       "      <td>https://www.yelp.com/biz/bury-the-hatchet-broo...</td>\n",
       "      <td>155</td>\n",
       "      <td>[{'alias': 'axethrowing', 'title': 'Axe Throwi...</td>\n",
       "      <td>4.5</td>\n",
       "      <td>{'latitude': 40.7283195, 'longitude': -73.9600...</td>\n",
       "      <td>[]</td>\n",
       "      <td>{'address1': '25 Noble St', 'address2': None, ...</td>\n",
       "      <td>+19172439696</td>\n",
       "      <td>(917) 243-9696</td>\n",
       "      <td>8652.979400</td>\n",
       "    </tr>\n",
       "    <tr>\n",
       "      <th>2</th>\n",
       "      <td>PhEkSzYZHKYS7uyXePmkMw</td>\n",
       "      <td>axes-and-arrows-long-island-city-2</td>\n",
       "      <td>Axes And Arrows</td>\n",
       "      <td>https://s3-media4.fl.yelpcdn.com/bphoto/Uinh_o...</td>\n",
       "      <td>False</td>\n",
       "      <td>https://www.yelp.com/biz/axes-and-arrows-long-...</td>\n",
       "      <td>49</td>\n",
       "      <td>[{'alias': 'axethrowing', 'title': 'Axe Throwi...</td>\n",
       "      <td>4.5</td>\n",
       "      <td>{'latitude': 40.7425127, 'longitude': -73.933816}</td>\n",
       "      <td>[]</td>\n",
       "      <td>{'address1': '47- 11 Van Dam St', 'address2': ...</td>\n",
       "      <td>+17183619152</td>\n",
       "      <td>(718) 361-9152</td>\n",
       "      <td>9996.588059</td>\n",
       "    </tr>\n",
       "    <tr>\n",
       "      <th>3</th>\n",
       "      <td>4sPiNeQGD8mzt9ess7xZrQ</td>\n",
       "      <td>mad-axe-brooklyn</td>\n",
       "      <td>Mad Axe</td>\n",
       "      <td>https://s3-media4.fl.yelpcdn.com/bphoto/UOC-Bs...</td>\n",
       "      <td>False</td>\n",
       "      <td>https://www.yelp.com/biz/mad-axe-brooklyn?adju...</td>\n",
       "      <td>13</td>\n",
       "      <td>[{'alias': 'axethrowing', 'title': 'Axe Throwi...</td>\n",
       "      <td>5.0</td>\n",
       "      <td>{'latitude': 40.707, 'longitude': -73.93364}</td>\n",
       "      <td>[]</td>\n",
       "      <td>{'address1': '94 Bogart Street 2nd', 'address2...</td>\n",
       "      <td>+19292950229</td>\n",
       "      <td>(929) 295-0229</td>\n",
       "      <td>6101.731538</td>\n",
       "    </tr>\n",
       "    <tr>\n",
       "      <th>4</th>\n",
       "      <td>lZVE27r_W_3GXxNwECYC4g</td>\n",
       "      <td>live-axe-new-york</td>\n",
       "      <td>Live Axe</td>\n",
       "      <td>https://s3-media2.fl.yelpcdn.com/bphoto/-Z1qvn...</td>\n",
       "      <td>False</td>\n",
       "      <td>https://www.yelp.com/biz/live-axe-new-york?adj...</td>\n",
       "      <td>7</td>\n",
       "      <td>[{'alias': 'axethrowing', 'title': 'Axe Throwi...</td>\n",
       "      <td>4.5</td>\n",
       "      <td>{'latitude': 40.71769, 'longitude': -74.00144}</td>\n",
       "      <td>[]</td>\n",
       "      <td>{'address1': '96 Lafayette St', 'address2': No...</td>\n",
       "      <td>+18888129060</td>\n",
       "      <td>(888) 812-9060</td>\n",
       "      <td>8955.976102</td>\n",
       "    </tr>\n",
       "  </tbody>\n",
       "</table>\n",
       "</div>"
      ],
      "text/plain": [
       "                       id                                              alias  \\\n",
       "0  X0DNGKUQPjf0AfaXfXU2Qg                       kick-axe-throwing-brooklyn-2   \n",
       "1  4E6BkrEVf_0TjRVYE7gxeQ  bury-the-hatchet-brooklyn-axe-throwing-brooklyn-2   \n",
       "2  PhEkSzYZHKYS7uyXePmkMw                 axes-and-arrows-long-island-city-2   \n",
       "3  4sPiNeQGD8mzt9ess7xZrQ                                   mad-axe-brooklyn   \n",
       "4  lZVE27r_W_3GXxNwECYC4g                                  live-axe-new-york   \n",
       "\n",
       "                                       name  \\\n",
       "0                         Kick Axe Throwing   \n",
       "1  Bury the Hatchet Brooklyn - Axe Throwing   \n",
       "2                           Axes And Arrows   \n",
       "3                                   Mad Axe   \n",
       "4                                  Live Axe   \n",
       "\n",
       "                                           image_url  is_closed  \\\n",
       "0  https://s3-media1.fl.yelpcdn.com/bphoto/WjKylw...      False   \n",
       "1  https://s3-media3.fl.yelpcdn.com/bphoto/SH8_Nw...      False   \n",
       "2  https://s3-media4.fl.yelpcdn.com/bphoto/Uinh_o...      False   \n",
       "3  https://s3-media4.fl.yelpcdn.com/bphoto/UOC-Bs...      False   \n",
       "4  https://s3-media2.fl.yelpcdn.com/bphoto/-Z1qvn...      False   \n",
       "\n",
       "                                                 url  review_count  \\\n",
       "0  https://www.yelp.com/biz/kick-axe-throwing-bro...           404   \n",
       "1  https://www.yelp.com/biz/bury-the-hatchet-broo...           155   \n",
       "2  https://www.yelp.com/biz/axes-and-arrows-long-...            49   \n",
       "3  https://www.yelp.com/biz/mad-axe-brooklyn?adju...            13   \n",
       "4  https://www.yelp.com/biz/live-axe-new-york?adj...             7   \n",
       "\n",
       "                                          categories  rating  \\\n",
       "0  [{'alias': 'bars', 'title': 'Bars'}, {'alias':...     4.5   \n",
       "1  [{'alias': 'axethrowing', 'title': 'Axe Throwi...     4.5   \n",
       "2  [{'alias': 'axethrowing', 'title': 'Axe Throwi...     4.5   \n",
       "3  [{'alias': 'axethrowing', 'title': 'Axe Throwi...     5.0   \n",
       "4  [{'alias': 'axethrowing', 'title': 'Axe Throwi...     4.5   \n",
       "\n",
       "                                         coordinates transactions  \\\n",
       "0  {'latitude': 40.6790268, 'longitude': -73.983077}           []   \n",
       "1  {'latitude': 40.7283195, 'longitude': -73.9600...           []   \n",
       "2  {'latitude': 40.7425127, 'longitude': -73.933816}           []   \n",
       "3       {'latitude': 40.707, 'longitude': -73.93364}           []   \n",
       "4     {'latitude': 40.71769, 'longitude': -74.00144}           []   \n",
       "\n",
       "                                            location         phone  \\\n",
       "0  {'address1': '622 Degraw St', 'address2': None...  +18335425293   \n",
       "1  {'address1': '25 Noble St', 'address2': None, ...  +19172439696   \n",
       "2  {'address1': '47- 11 Van Dam St', 'address2': ...  +17183619152   \n",
       "3  {'address1': '94 Bogart Street 2nd', 'address2...  +19292950229   \n",
       "4  {'address1': '96 Lafayette St', 'address2': No...  +18888129060   \n",
       "\n",
       "    display_phone     distance  \n",
       "0  (833) 542-5293  4733.616620  \n",
       "1  (917) 243-9696  8652.979400  \n",
       "2  (718) 361-9152  9996.588059  \n",
       "3  (929) 295-0229  6101.731538  \n",
       "4  (888) 812-9060  8955.976102  "
      ]
     },
     "execution_count": 24,
     "metadata": {},
     "output_type": "execute_result"
    }
   ],
   "source": [
    "df.head()"
   ]
  },
  {
   "cell_type": "code",
   "execution_count": 25,
   "metadata": {},
   "outputs": [
    {
     "data": {
      "text/plain": [
       "0     404\n",
       "1     155\n",
       "2      49\n",
       "3      13\n",
       "4       7\n",
       "5       7\n",
       "6       1\n",
       "7     509\n",
       "8      14\n",
       "9      45\n",
       "10     91\n",
       "11     75\n",
       "12     91\n",
       "13      8\n",
       "14      1\n",
       "15    105\n",
       "16    363\n",
       "Name: review_count, dtype: int64"
      ]
     },
     "execution_count": 25,
     "metadata": {},
     "output_type": "execute_result"
    }
   ],
   "source": [
    "df['review_count']"
   ]
  },
  {
   "cell_type": "code",
   "execution_count": 27,
   "metadata": {},
   "outputs": [],
   "source": [
    "df.set_index('id', inplace=True)"
   ]
  },
  {
   "cell_type": "code",
   "execution_count": 75,
   "metadata": {},
   "outputs": [
    {
     "data": {
      "text/html": [
       "<div>\n",
       "<style scoped>\n",
       "    .dataframe tbody tr th:only-of-type {\n",
       "        vertical-align: middle;\n",
       "    }\n",
       "\n",
       "    .dataframe tbody tr th {\n",
       "        vertical-align: top;\n",
       "    }\n",
       "\n",
       "    .dataframe thead th {\n",
       "        text-align: right;\n",
       "    }\n",
       "</style>\n",
       "<table border=\"1\" class=\"dataframe\">\n",
       "  <thead>\n",
       "    <tr style=\"text-align: right;\">\n",
       "      <th></th>\n",
       "      <th>alias</th>\n",
       "      <th>name</th>\n",
       "      <th>image_url</th>\n",
       "      <th>is_closed</th>\n",
       "      <th>url</th>\n",
       "      <th>review_count</th>\n",
       "      <th>categories</th>\n",
       "      <th>rating</th>\n",
       "      <th>coordinates</th>\n",
       "      <th>transactions</th>\n",
       "      <th>location</th>\n",
       "      <th>phone</th>\n",
       "      <th>display_phone</th>\n",
       "      <th>distance</th>\n",
       "    </tr>\n",
       "    <tr>\n",
       "      <th>id</th>\n",
       "      <th></th>\n",
       "      <th></th>\n",
       "      <th></th>\n",
       "      <th></th>\n",
       "      <th></th>\n",
       "      <th></th>\n",
       "      <th></th>\n",
       "      <th></th>\n",
       "      <th></th>\n",
       "      <th></th>\n",
       "      <th></th>\n",
       "      <th></th>\n",
       "      <th></th>\n",
       "      <th></th>\n",
       "    </tr>\n",
       "  </thead>\n",
       "  <tbody>\n",
       "    <tr>\n",
       "      <th>X0DNGKUQPjf0AfaXfXU2Qg</th>\n",
       "      <td>kick-axe-throwing-brooklyn-2</td>\n",
       "      <td>Kick Axe Throwing</td>\n",
       "      <td>https://s3-media1.fl.yelpcdn.com/bphoto/WjKylw...</td>\n",
       "      <td>False</td>\n",
       "      <td>https://www.yelp.com/biz/kick-axe-throwing-bro...</td>\n",
       "      <td>404</td>\n",
       "      <td>[{'alias': 'bars', 'title': 'Bars'}, {'alias':...</td>\n",
       "      <td>4.5</td>\n",
       "      <td>{'latitude': 40.6790268, 'longitude': -73.983077}</td>\n",
       "      <td>[]</td>\n",
       "      <td>{'address1': '622 Degraw St', 'address2': None...</td>\n",
       "      <td>+18335425293</td>\n",
       "      <td>(833) 542-5293</td>\n",
       "      <td>4733.61662</td>\n",
       "    </tr>\n",
       "    <tr>\n",
       "      <th>4E6BkrEVf_0TjRVYE7gxeQ</th>\n",
       "      <td>bury-the-hatchet-brooklyn-axe-throwing-brooklyn-2</td>\n",
       "      <td>Bury the Hatchet Brooklyn - Axe Throwing</td>\n",
       "      <td>https://s3-media3.fl.yelpcdn.com/bphoto/SH8_Nw...</td>\n",
       "      <td>False</td>\n",
       "      <td>https://www.yelp.com/biz/bury-the-hatchet-broo...</td>\n",
       "      <td>155</td>\n",
       "      <td>[{'alias': 'axethrowing', 'title': 'Axe Throwi...</td>\n",
       "      <td>4.5</td>\n",
       "      <td>{'latitude': 40.7283195, 'longitude': -73.9600...</td>\n",
       "      <td>[]</td>\n",
       "      <td>{'address1': '25 Noble St', 'address2': None, ...</td>\n",
       "      <td>+19172439696</td>\n",
       "      <td>(917) 243-9696</td>\n",
       "      <td>8652.97940</td>\n",
       "    </tr>\n",
       "  </tbody>\n",
       "</table>\n",
       "</div>"
      ],
      "text/plain": [
       "                                                                    alias  \\\n",
       "id                                                                          \n",
       "X0DNGKUQPjf0AfaXfXU2Qg                       kick-axe-throwing-brooklyn-2   \n",
       "4E6BkrEVf_0TjRVYE7gxeQ  bury-the-hatchet-brooklyn-axe-throwing-brooklyn-2   \n",
       "\n",
       "                                                            name  \\\n",
       "id                                                                 \n",
       "X0DNGKUQPjf0AfaXfXU2Qg                         Kick Axe Throwing   \n",
       "4E6BkrEVf_0TjRVYE7gxeQ  Bury the Hatchet Brooklyn - Axe Throwing   \n",
       "\n",
       "                                                                image_url  \\\n",
       "id                                                                          \n",
       "X0DNGKUQPjf0AfaXfXU2Qg  https://s3-media1.fl.yelpcdn.com/bphoto/WjKylw...   \n",
       "4E6BkrEVf_0TjRVYE7gxeQ  https://s3-media3.fl.yelpcdn.com/bphoto/SH8_Nw...   \n",
       "\n",
       "                        is_closed  \\\n",
       "id                                  \n",
       "X0DNGKUQPjf0AfaXfXU2Qg      False   \n",
       "4E6BkrEVf_0TjRVYE7gxeQ      False   \n",
       "\n",
       "                                                                      url  \\\n",
       "id                                                                          \n",
       "X0DNGKUQPjf0AfaXfXU2Qg  https://www.yelp.com/biz/kick-axe-throwing-bro...   \n",
       "4E6BkrEVf_0TjRVYE7gxeQ  https://www.yelp.com/biz/bury-the-hatchet-broo...   \n",
       "\n",
       "                        review_count  \\\n",
       "id                                     \n",
       "X0DNGKUQPjf0AfaXfXU2Qg           404   \n",
       "4E6BkrEVf_0TjRVYE7gxeQ           155   \n",
       "\n",
       "                                                               categories  \\\n",
       "id                                                                          \n",
       "X0DNGKUQPjf0AfaXfXU2Qg  [{'alias': 'bars', 'title': 'Bars'}, {'alias':...   \n",
       "4E6BkrEVf_0TjRVYE7gxeQ  [{'alias': 'axethrowing', 'title': 'Axe Throwi...   \n",
       "\n",
       "                        rating  \\\n",
       "id                               \n",
       "X0DNGKUQPjf0AfaXfXU2Qg     4.5   \n",
       "4E6BkrEVf_0TjRVYE7gxeQ     4.5   \n",
       "\n",
       "                                                              coordinates  \\\n",
       "id                                                                          \n",
       "X0DNGKUQPjf0AfaXfXU2Qg  {'latitude': 40.6790268, 'longitude': -73.983077}   \n",
       "4E6BkrEVf_0TjRVYE7gxeQ  {'latitude': 40.7283195, 'longitude': -73.9600...   \n",
       "\n",
       "                       transactions  \\\n",
       "id                                    \n",
       "X0DNGKUQPjf0AfaXfXU2Qg           []   \n",
       "4E6BkrEVf_0TjRVYE7gxeQ           []   \n",
       "\n",
       "                                                                 location  \\\n",
       "id                                                                          \n",
       "X0DNGKUQPjf0AfaXfXU2Qg  {'address1': '622 Degraw St', 'address2': None...   \n",
       "4E6BkrEVf_0TjRVYE7gxeQ  {'address1': '25 Noble St', 'address2': None, ...   \n",
       "\n",
       "                               phone   display_phone    distance  \n",
       "id                                                                \n",
       "X0DNGKUQPjf0AfaXfXU2Qg  +18335425293  (833) 542-5293  4733.61662  \n",
       "4E6BkrEVf_0TjRVYE7gxeQ  +19172439696  (917) 243-9696  8652.97940  "
      ]
     },
     "execution_count": 75,
     "metadata": {},
     "output_type": "execute_result"
    }
   ],
   "source": [
    "df.head(2)"
   ]
  },
  {
   "cell_type": "code",
   "execution_count": 34,
   "metadata": {},
   "outputs": [
    {
     "data": {
      "text/html": [
       "<div>\n",
       "<style scoped>\n",
       "    .dataframe tbody tr th:only-of-type {\n",
       "        vertical-align: middle;\n",
       "    }\n",
       "\n",
       "    .dataframe tbody tr th {\n",
       "        vertical-align: top;\n",
       "    }\n",
       "\n",
       "    .dataframe thead th {\n",
       "        text-align: right;\n",
       "    }\n",
       "</style>\n",
       "<table border=\"1\" class=\"dataframe\">\n",
       "  <thead>\n",
       "    <tr style=\"text-align: right;\">\n",
       "      <th></th>\n",
       "      <th>alias</th>\n",
       "      <th>name</th>\n",
       "      <th>image_url</th>\n",
       "      <th>is_closed</th>\n",
       "      <th>url</th>\n",
       "      <th>review_count</th>\n",
       "      <th>categories</th>\n",
       "      <th>rating</th>\n",
       "      <th>coordinates</th>\n",
       "      <th>transactions</th>\n",
       "      <th>location</th>\n",
       "      <th>phone</th>\n",
       "      <th>display_phone</th>\n",
       "      <th>distance</th>\n",
       "    </tr>\n",
       "    <tr>\n",
       "      <th>id</th>\n",
       "      <th></th>\n",
       "      <th></th>\n",
       "      <th></th>\n",
       "      <th></th>\n",
       "      <th></th>\n",
       "      <th></th>\n",
       "      <th></th>\n",
       "      <th></th>\n",
       "      <th></th>\n",
       "      <th></th>\n",
       "      <th></th>\n",
       "      <th></th>\n",
       "      <th></th>\n",
       "      <th></th>\n",
       "    </tr>\n",
       "  </thead>\n",
       "  <tbody>\n",
       "    <tr>\n",
       "      <th>K_Jm8V-XuOFlbHb_VUzk-w</th>\n",
       "      <td>indoor-extreme-sports-long-island-city</td>\n",
       "      <td>Indoor Extreme Sports</td>\n",
       "      <td>https://s3-media2.fl.yelpcdn.com/bphoto/wQE-gO...</td>\n",
       "      <td>False</td>\n",
       "      <td>https://www.yelp.com/biz/indoor-extreme-sports...</td>\n",
       "      <td>509</td>\n",
       "      <td>[{'alias': 'paintball', 'title': 'Paintball'},...</td>\n",
       "      <td>4.0</td>\n",
       "      <td>{'latitude': 40.7422746, 'longitude': -73.9338...</td>\n",
       "      <td>[]</td>\n",
       "      <td>{'address1': '47 11 Van Dam St', 'address2': N...</td>\n",
       "      <td>+17183619152</td>\n",
       "      <td>(718) 361-9152</td>\n",
       "      <td>10012.024588</td>\n",
       "    </tr>\n",
       "  </tbody>\n",
       "</table>\n",
       "</div>"
      ],
      "text/plain": [
       "                                                         alias  \\\n",
       "id                                                               \n",
       "K_Jm8V-XuOFlbHb_VUzk-w  indoor-extreme-sports-long-island-city   \n",
       "\n",
       "                                         name  \\\n",
       "id                                              \n",
       "K_Jm8V-XuOFlbHb_VUzk-w  Indoor Extreme Sports   \n",
       "\n",
       "                                                                image_url  \\\n",
       "id                                                                          \n",
       "K_Jm8V-XuOFlbHb_VUzk-w  https://s3-media2.fl.yelpcdn.com/bphoto/wQE-gO...   \n",
       "\n",
       "                        is_closed  \\\n",
       "id                                  \n",
       "K_Jm8V-XuOFlbHb_VUzk-w      False   \n",
       "\n",
       "                                                                      url  \\\n",
       "id                                                                          \n",
       "K_Jm8V-XuOFlbHb_VUzk-w  https://www.yelp.com/biz/indoor-extreme-sports...   \n",
       "\n",
       "                        review_count  \\\n",
       "id                                     \n",
       "K_Jm8V-XuOFlbHb_VUzk-w           509   \n",
       "\n",
       "                                                               categories  \\\n",
       "id                                                                          \n",
       "K_Jm8V-XuOFlbHb_VUzk-w  [{'alias': 'paintball', 'title': 'Paintball'},...   \n",
       "\n",
       "                        rating  \\\n",
       "id                               \n",
       "K_Jm8V-XuOFlbHb_VUzk-w     4.0   \n",
       "\n",
       "                                                              coordinates  \\\n",
       "id                                                                          \n",
       "K_Jm8V-XuOFlbHb_VUzk-w  {'latitude': 40.7422746, 'longitude': -73.9338...   \n",
       "\n",
       "                       transactions  \\\n",
       "id                                    \n",
       "K_Jm8V-XuOFlbHb_VUzk-w           []   \n",
       "\n",
       "                                                                 location  \\\n",
       "id                                                                          \n",
       "K_Jm8V-XuOFlbHb_VUzk-w  {'address1': '47 11 Van Dam St', 'address2': N...   \n",
       "\n",
       "                               phone   display_phone      distance  \n",
       "id                                                                  \n",
       "K_Jm8V-XuOFlbHb_VUzk-w  +17183619152  (718) 361-9152  10012.024588  "
      ]
     },
     "execution_count": 34,
     "metadata": {},
     "output_type": "execute_result"
    }
   ],
   "source": [
    "df[df['review_count'] == df['review_count'].max()]"
   ]
  },
  {
   "cell_type": "code",
   "execution_count": 62,
   "metadata": {},
   "outputs": [
    {
     "data": {
      "text/plain": [
       "<matplotlib.axes._subplots.AxesSubplot at 0x11e3a99b0>"
      ]
     },
     "execution_count": 62,
     "metadata": {},
     "output_type": "execute_result"
    },
    {
     "data": {
      "image/png": "[encoded data removed]",
      "text/plain": [
       "<Figure size 432x288 with 1 Axes>"
      ]
     },
     "metadata": {
      "needs_background": "light"
     },
     "output_type": "display_data"
    }
   ],
   "source": [
    "df['review_count'].hist()"
   ]
  },
  {
   "cell_type": "code",
   "execution_count": 74,
   "metadata": {},
   "outputs": [
    {
     "data": {
      "text/plain": [
       "<matplotlib.collections.PathCollection at 0x11e100da0>"
      ]
     },
     "execution_count": 74,
     "metadata": {},
     "output_type": "execute_result"
    },
    {
     "data": {
      "image/png": "[encoded data removed]",
      "text/plain": [
       "<Figure size 432x288 with 1 Axes>"
      ]
     },
     "metadata": {
      "needs_background": "light"
     },
     "output_type": "display_data"
    }
   ],
   "source": [
    "df['review_count'].plot().scatter(x=df['name'], y=df['review_count'])"
   ]
  },
  {
   "cell_type": "code",
   "execution_count": 73,
   "metadata": {},
   "outputs": [
    {
     "data": {
      "text/plain": [
       "<matplotlib.axes._subplots.AxesSubplot at 0x11f421518>"
      ]
     },
     "execution_count": 73,
     "metadata": {},
     "output_type": "execute_result"
    },
    {
     "data": {
      "image/png": "[encoded data removed]",
      "text/plain": [
       "<Figure size 1224x720 with 1 Axes>"
      ]
     },
     "metadata": {
      "needs_background": "light"
     },
     "output_type": "display_data"
    }
   ],
   "source": [
    "df.plot(kind='hist',x='name', y='review_count', figsize=(17,10))"
   ]
  },
  {
   "cell_type": "code",
   "execution_count": null,
   "metadata": {},
   "outputs": [],
   "source": []
  }
 ],
 "metadata": {
  "kernelspec": {
   "display_name": "learn-env",
   "language": "python",
   "name": "learn-env"
  },
  "language_info": {
   "codemirror_mode": {
    "name": "ipython",
    "version": 3
   },
   "file_extension": ".py",
   "mimetype": "text/x-python",
   "name": "python",
   "nbconvert_exporter": "python",
   "pygments_lexer": "ipython3",
   "version": "3.6.9"
  }
 },
 "nbformat": 4,
 "nbformat_minor": 4
}
